{
 "cells": [
  {
   "cell_type": "markdown",
   "metadata": {},
   "source": [
    "## OBJECTIVES:"
   ]
  },
  {
   "cell_type": "markdown",
   "metadata": {},
   "source": [
    "In this project, I will be cleaning and analysing dataset on Amazon's Top 50 bestselling books from 2009 to 2019 in other to visualize:"
   ]
  },
  {
   "cell_type": "markdown",
   "metadata": {},
   "source": [
    "1. The best selling book of the decade\n",
    "2. The percentage of fiction to non-fiction\n",
    "3. Trends over the year\n",
    "4. Top 10 authors according to reviews"
   ]
  },
  {
   "cell_type": "markdown",
   "metadata": {},
   "source": [
    "#### IMPORTING NECESSARY LIBRARIES"
   ]
  },
  {
   "cell_type": "code",
   "execution_count": 167,
   "metadata": {},
   "outputs": [],
   "source": [
    "#data analysis and wrangling\n",
    "import pandas as pd\n",
    "import numpy as np\n",
    "\n",
    "#data visualization\n",
    "import matplotlib.pyplot as plt\n",
    "%matplotlib inline\n",
    "import seaborn as sns"
   ]
  },
  {
   "cell_type": "markdown",
   "metadata": {},
   "source": [
    "#### IMPORTING THE DATASET"
   ]
  },
  {
   "cell_type": "code",
   "execution_count": 168,
   "metadata": {},
   "outputs": [],
   "source": [
    "amazon_books = pd.read_csv('bestsellers_with_categories.csv')"
   ]
  },
  {
   "cell_type": "code",
   "execution_count": 169,
   "metadata": {},
   "outputs": [
    {
     "data": {
      "text/html": [
       "<div>\n",
       "<style scoped>\n",
       "    .dataframe tbody tr th:only-of-type {\n",
       "        vertical-align: middle;\n",
       "    }\n",
       "\n",
       "    .dataframe tbody tr th {\n",
       "        vertical-align: top;\n",
       "    }\n",
       "\n",
       "    .dataframe thead th {\n",
       "        text-align: right;\n",
       "    }\n",
       "</style>\n",
       "<table border=\"1\" class=\"dataframe\">\n",
       "  <thead>\n",
       "    <tr style=\"text-align: right;\">\n",
       "      <th></th>\n",
       "      <th>Name</th>\n",
       "      <th>Author</th>\n",
       "      <th>User Rating</th>\n",
       "      <th>Reviews</th>\n",
       "      <th>Price</th>\n",
       "      <th>Year</th>\n",
       "      <th>Genre</th>\n",
       "    </tr>\n",
       "  </thead>\n",
       "  <tbody>\n",
       "    <tr>\n",
       "      <th>0</th>\n",
       "      <td>10-Day Green Smoothie Cleanse</td>\n",
       "      <td>JJ Smith</td>\n",
       "      <td>4.7</td>\n",
       "      <td>17350</td>\n",
       "      <td>8</td>\n",
       "      <td>2016</td>\n",
       "      <td>Non Fiction</td>\n",
       "    </tr>\n",
       "    <tr>\n",
       "      <th>1</th>\n",
       "      <td>11/22/63: A Novel</td>\n",
       "      <td>Stephen King</td>\n",
       "      <td>4.6</td>\n",
       "      <td>2052</td>\n",
       "      <td>22</td>\n",
       "      <td>2011</td>\n",
       "      <td>Fiction</td>\n",
       "    </tr>\n",
       "    <tr>\n",
       "      <th>2</th>\n",
       "      <td>12 Rules for Life: An Antidote to Chaos</td>\n",
       "      <td>Jordan B. Peterson</td>\n",
       "      <td>4.7</td>\n",
       "      <td>18979</td>\n",
       "      <td>15</td>\n",
       "      <td>2018</td>\n",
       "      <td>Non Fiction</td>\n",
       "    </tr>\n",
       "    <tr>\n",
       "      <th>3</th>\n",
       "      <td>1984 (Signet Classics)</td>\n",
       "      <td>George Orwell</td>\n",
       "      <td>4.7</td>\n",
       "      <td>21424</td>\n",
       "      <td>6</td>\n",
       "      <td>2017</td>\n",
       "      <td>Fiction</td>\n",
       "    </tr>\n",
       "    <tr>\n",
       "      <th>4</th>\n",
       "      <td>5,000 Awesome Facts (About Everything!) (Natio...</td>\n",
       "      <td>National Geographic Kids</td>\n",
       "      <td>4.8</td>\n",
       "      <td>7665</td>\n",
       "      <td>12</td>\n",
       "      <td>2019</td>\n",
       "      <td>Non Fiction</td>\n",
       "    </tr>\n",
       "  </tbody>\n",
       "</table>\n",
       "</div>"
      ],
      "text/plain": [
       "                                                Name  \\\n",
       "0                      10-Day Green Smoothie Cleanse   \n",
       "1                                  11/22/63: A Novel   \n",
       "2            12 Rules for Life: An Antidote to Chaos   \n",
       "3                             1984 (Signet Classics)   \n",
       "4  5,000 Awesome Facts (About Everything!) (Natio...   \n",
       "\n",
       "                     Author  User Rating  Reviews  Price  Year        Genre  \n",
       "0                  JJ Smith          4.7    17350      8  2016  Non Fiction  \n",
       "1              Stephen King          4.6     2052     22  2011      Fiction  \n",
       "2        Jordan B. Peterson          4.7    18979     15  2018  Non Fiction  \n",
       "3             George Orwell          4.7    21424      6  2017      Fiction  \n",
       "4  National Geographic Kids          4.8     7665     12  2019  Non Fiction  "
      ]
     },
     "execution_count": 169,
     "metadata": {},
     "output_type": "execute_result"
    }
   ],
   "source": [
    "amazon_books.head()"
   ]
  },
  {
   "cell_type": "code",
   "execution_count": 170,
   "metadata": {},
   "outputs": [
    {
     "data": {
      "text/html": [
       "<div>\n",
       "<style scoped>\n",
       "    .dataframe tbody tr th:only-of-type {\n",
       "        vertical-align: middle;\n",
       "    }\n",
       "\n",
       "    .dataframe tbody tr th {\n",
       "        vertical-align: top;\n",
       "    }\n",
       "\n",
       "    .dataframe thead th {\n",
       "        text-align: right;\n",
       "    }\n",
       "</style>\n",
       "<table border=\"1\" class=\"dataframe\">\n",
       "  <thead>\n",
       "    <tr style=\"text-align: right;\">\n",
       "      <th></th>\n",
       "      <th>Name</th>\n",
       "      <th>Author</th>\n",
       "      <th>User Rating</th>\n",
       "      <th>Reviews</th>\n",
       "      <th>Price</th>\n",
       "      <th>Year</th>\n",
       "      <th>Genre</th>\n",
       "    </tr>\n",
       "  </thead>\n",
       "  <tbody>\n",
       "    <tr>\n",
       "      <th>545</th>\n",
       "      <td>Wrecking Ball (Diary of a Wimpy Kid Book 14)</td>\n",
       "      <td>Jeff Kinney</td>\n",
       "      <td>4.9</td>\n",
       "      <td>9413</td>\n",
       "      <td>8</td>\n",
       "      <td>2019</td>\n",
       "      <td>Fiction</td>\n",
       "    </tr>\n",
       "    <tr>\n",
       "      <th>546</th>\n",
       "      <td>You Are a Badass: How to Stop Doubting Your Gr...</td>\n",
       "      <td>Jen Sincero</td>\n",
       "      <td>4.7</td>\n",
       "      <td>14331</td>\n",
       "      <td>8</td>\n",
       "      <td>2016</td>\n",
       "      <td>Non Fiction</td>\n",
       "    </tr>\n",
       "    <tr>\n",
       "      <th>547</th>\n",
       "      <td>You Are a Badass: How to Stop Doubting Your Gr...</td>\n",
       "      <td>Jen Sincero</td>\n",
       "      <td>4.7</td>\n",
       "      <td>14331</td>\n",
       "      <td>8</td>\n",
       "      <td>2017</td>\n",
       "      <td>Non Fiction</td>\n",
       "    </tr>\n",
       "    <tr>\n",
       "      <th>548</th>\n",
       "      <td>You Are a Badass: How to Stop Doubting Your Gr...</td>\n",
       "      <td>Jen Sincero</td>\n",
       "      <td>4.7</td>\n",
       "      <td>14331</td>\n",
       "      <td>8</td>\n",
       "      <td>2018</td>\n",
       "      <td>Non Fiction</td>\n",
       "    </tr>\n",
       "    <tr>\n",
       "      <th>549</th>\n",
       "      <td>You Are a Badass: How to Stop Doubting Your Gr...</td>\n",
       "      <td>Jen Sincero</td>\n",
       "      <td>4.7</td>\n",
       "      <td>14331</td>\n",
       "      <td>8</td>\n",
       "      <td>2019</td>\n",
       "      <td>Non Fiction</td>\n",
       "    </tr>\n",
       "  </tbody>\n",
       "</table>\n",
       "</div>"
      ],
      "text/plain": [
       "                                                  Name       Author  \\\n",
       "545       Wrecking Ball (Diary of a Wimpy Kid Book 14)  Jeff Kinney   \n",
       "546  You Are a Badass: How to Stop Doubting Your Gr...  Jen Sincero   \n",
       "547  You Are a Badass: How to Stop Doubting Your Gr...  Jen Sincero   \n",
       "548  You Are a Badass: How to Stop Doubting Your Gr...  Jen Sincero   \n",
       "549  You Are a Badass: How to Stop Doubting Your Gr...  Jen Sincero   \n",
       "\n",
       "     User Rating  Reviews  Price  Year        Genre  \n",
       "545          4.9     9413      8  2019      Fiction  \n",
       "546          4.7    14331      8  2016  Non Fiction  \n",
       "547          4.7    14331      8  2017  Non Fiction  \n",
       "548          4.7    14331      8  2018  Non Fiction  \n",
       "549          4.7    14331      8  2019  Non Fiction  "
      ]
     },
     "execution_count": 170,
     "metadata": {},
     "output_type": "execute_result"
    }
   ],
   "source": [
    " amazon_books.tail()"
   ]
  },
  {
   "cell_type": "markdown",
   "metadata": {},
   "source": [
    "##### Shape of the dataset "
   ]
  },
  {
   "cell_type": "code",
   "execution_count": 171,
   "metadata": {},
   "outputs": [
    {
     "data": {
      "text/plain": [
       "(550, 7)"
      ]
     },
     "execution_count": 171,
     "metadata": {},
     "output_type": "execute_result"
    }
   ],
   "source": [
    "amazon_books.shape"
   ]
  },
  {
   "cell_type": "markdown",
   "metadata": {},
   "source": [
    "##### Information on data type of each column"
   ]
  },
  {
   "cell_type": "code",
   "execution_count": 172,
   "metadata": {},
   "outputs": [
    {
     "name": "stdout",
     "output_type": "stream",
     "text": [
      "<class 'pandas.core.frame.DataFrame'>\n",
      "RangeIndex: 550 entries, 0 to 549\n",
      "Data columns (total 7 columns):\n",
      " #   Column       Non-Null Count  Dtype  \n",
      "---  ------       --------------  -----  \n",
      " 0   Name         550 non-null    object \n",
      " 1   Author       550 non-null    object \n",
      " 2   User Rating  550 non-null    float64\n",
      " 3   Reviews      550 non-null    int64  \n",
      " 4   Price        550 non-null    int64  \n",
      " 5   Year         550 non-null    int64  \n",
      " 6   Genre        550 non-null    object \n",
      "dtypes: float64(1), int64(3), object(3)\n",
      "memory usage: 30.2+ KB\n"
     ]
    }
   ],
   "source": [
    "amazon_books.info()"
   ]
  },
  {
   "cell_type": "markdown",
   "metadata": {},
   "source": [
    "The dataset consists of 3 objects, 3 integers and 1 float datatype."
   ]
  },
  {
   "cell_type": "markdown",
   "metadata": {},
   "source": [
    "##### Checking for empty cells"
   ]
  },
  {
   "cell_type": "code",
   "execution_count": 173,
   "metadata": {},
   "outputs": [
    {
     "data": {
      "text/plain": [
       "Name           0\n",
       "Author         0\n",
       "User Rating    0\n",
       "Reviews        0\n",
       "Price          0\n",
       "Year           0\n",
       "Genre          0\n",
       "dtype: int64"
      ]
     },
     "execution_count": 173,
     "metadata": {},
     "output_type": "execute_result"
    }
   ],
   "source": [
    "amazon_books.isnull().sum()"
   ]
  },
  {
   "cell_type": "markdown",
   "metadata": {},
   "source": [
    "There are no empty cells."
   ]
  },
  {
   "cell_type": "markdown",
   "metadata": {},
   "source": [
    "##### Names of the columns"
   ]
  },
  {
   "cell_type": "code",
   "execution_count": 174,
   "metadata": {},
   "outputs": [
    {
     "data": {
      "text/plain": [
       "Index(['Name', 'Author', 'User Rating', 'Reviews', 'Price', 'Year', 'Genre'], dtype='object')"
      ]
     },
     "execution_count": 174,
     "metadata": {},
     "output_type": "execute_result"
    }
   ],
   "source": [
    "amazon_books.columns"
   ]
  },
  {
   "cell_type": "markdown",
   "metadata": {},
   "source": [
    "##### Summary of the dataset ie descriptive statistics"
   ]
  },
  {
   "cell_type": "code",
   "execution_count": 175,
   "metadata": {},
   "outputs": [
    {
     "data": {
      "text/html": [
       "<div>\n",
       "<style scoped>\n",
       "    .dataframe tbody tr th:only-of-type {\n",
       "        vertical-align: middle;\n",
       "    }\n",
       "\n",
       "    .dataframe tbody tr th {\n",
       "        vertical-align: top;\n",
       "    }\n",
       "\n",
       "    .dataframe thead th {\n",
       "        text-align: right;\n",
       "    }\n",
       "</style>\n",
       "<table border=\"1\" class=\"dataframe\">\n",
       "  <thead>\n",
       "    <tr style=\"text-align: right;\">\n",
       "      <th></th>\n",
       "      <th>User Rating</th>\n",
       "      <th>Reviews</th>\n",
       "      <th>Price</th>\n",
       "      <th>Year</th>\n",
       "    </tr>\n",
       "  </thead>\n",
       "  <tbody>\n",
       "    <tr>\n",
       "      <th>count</th>\n",
       "      <td>550.000000</td>\n",
       "      <td>550.000000</td>\n",
       "      <td>550.000000</td>\n",
       "      <td>550.000000</td>\n",
       "    </tr>\n",
       "    <tr>\n",
       "      <th>mean</th>\n",
       "      <td>4.618364</td>\n",
       "      <td>11953.281818</td>\n",
       "      <td>13.100000</td>\n",
       "      <td>2014.000000</td>\n",
       "    </tr>\n",
       "    <tr>\n",
       "      <th>std</th>\n",
       "      <td>0.226980</td>\n",
       "      <td>11731.132017</td>\n",
       "      <td>10.842262</td>\n",
       "      <td>3.165156</td>\n",
       "    </tr>\n",
       "    <tr>\n",
       "      <th>min</th>\n",
       "      <td>3.300000</td>\n",
       "      <td>37.000000</td>\n",
       "      <td>0.000000</td>\n",
       "      <td>2009.000000</td>\n",
       "    </tr>\n",
       "    <tr>\n",
       "      <th>25%</th>\n",
       "      <td>4.500000</td>\n",
       "      <td>4058.000000</td>\n",
       "      <td>7.000000</td>\n",
       "      <td>2011.000000</td>\n",
       "    </tr>\n",
       "    <tr>\n",
       "      <th>50%</th>\n",
       "      <td>4.700000</td>\n",
       "      <td>8580.000000</td>\n",
       "      <td>11.000000</td>\n",
       "      <td>2014.000000</td>\n",
       "    </tr>\n",
       "    <tr>\n",
       "      <th>75%</th>\n",
       "      <td>4.800000</td>\n",
       "      <td>17253.250000</td>\n",
       "      <td>16.000000</td>\n",
       "      <td>2017.000000</td>\n",
       "    </tr>\n",
       "    <tr>\n",
       "      <th>max</th>\n",
       "      <td>4.900000</td>\n",
       "      <td>87841.000000</td>\n",
       "      <td>105.000000</td>\n",
       "      <td>2019.000000</td>\n",
       "    </tr>\n",
       "  </tbody>\n",
       "</table>\n",
       "</div>"
      ],
      "text/plain": [
       "       User Rating       Reviews       Price         Year\n",
       "count   550.000000    550.000000  550.000000   550.000000\n",
       "mean      4.618364  11953.281818   13.100000  2014.000000\n",
       "std       0.226980  11731.132017   10.842262     3.165156\n",
       "min       3.300000     37.000000    0.000000  2009.000000\n",
       "25%       4.500000   4058.000000    7.000000  2011.000000\n",
       "50%       4.700000   8580.000000   11.000000  2014.000000\n",
       "75%       4.800000  17253.250000   16.000000  2017.000000\n",
       "max       4.900000  87841.000000  105.000000  2019.000000"
      ]
     },
     "execution_count": 175,
     "metadata": {},
     "output_type": "execute_result"
    }
   ],
   "source": [
    "amazon_books.describe()"
   ]
  },
  {
   "cell_type": "markdown",
   "metadata": {},
   "source": [
    "# Exploratory Data Analysis"
   ]
  },
  {
   "cell_type": "markdown",
   "metadata": {},
   "source": [
    "In this section, I will be answering and visualizing the objective questions"
   ]
  },
  {
   "cell_type": "markdown",
   "metadata": {},
   "source": [
    "## 1. Best Selling Book of the Decade"
   ]
  },
  {
   "cell_type": "code",
   "execution_count": 176,
   "metadata": {},
   "outputs": [
    {
     "data": {
      "text/html": [
       "<div>\n",
       "<style scoped>\n",
       "    .dataframe tbody tr th:only-of-type {\n",
       "        vertical-align: middle;\n",
       "    }\n",
       "\n",
       "    .dataframe tbody tr th {\n",
       "        vertical-align: top;\n",
       "    }\n",
       "\n",
       "    .dataframe thead th {\n",
       "        text-align: right;\n",
       "    }\n",
       "</style>\n",
       "<table border=\"1\" class=\"dataframe\">\n",
       "  <thead>\n",
       "    <tr style=\"text-align: right;\">\n",
       "      <th></th>\n",
       "      <th></th>\n",
       "      <th>User Rating</th>\n",
       "      <th>Year</th>\n",
       "    </tr>\n",
       "    <tr>\n",
       "      <th>Name</th>\n",
       "      <th>Author</th>\n",
       "      <th></th>\n",
       "      <th></th>\n",
       "    </tr>\n",
       "  </thead>\n",
       "  <tbody>\n",
       "    <tr>\n",
       "      <th>Hamilton: The Revolution</th>\n",
       "      <th>Lin-Manuel Miranda</th>\n",
       "      <td>4.9</td>\n",
       "      <td>2016.0</td>\n",
       "    </tr>\n",
       "    <tr>\n",
       "      <th>Rush Revere and the First Patriots: Time-Travel Adventures With Exceptional Americans (2)</th>\n",
       "      <th>Rush Limbaugh</th>\n",
       "      <td>4.9</td>\n",
       "      <td>2014.0</td>\n",
       "    </tr>\n",
       "    <tr>\n",
       "      <th>Harry Potter and the Sorcerer's Stone: The Illustrated Edition (Harry Potter, Book 1)</th>\n",
       "      <th>J.K. Rowling</th>\n",
       "      <td>4.9</td>\n",
       "      <td>2016.0</td>\n",
       "    </tr>\n",
       "    <tr>\n",
       "      <th>Harry Potter and the Prisoner of Azkaban: The Illustrated Edition (Harry Potter, Book 3)</th>\n",
       "      <th>J.K. Rowling</th>\n",
       "      <td>4.9</td>\n",
       "      <td>2017.0</td>\n",
       "    </tr>\n",
       "    <tr>\n",
       "      <th>Harry Potter and the Goblet of Fire: The Illustrated Edition (Harry Potter, Book 4) (4)</th>\n",
       "      <th>J. K. Rowling</th>\n",
       "      <td>4.9</td>\n",
       "      <td>2019.0</td>\n",
       "    </tr>\n",
       "    <tr>\n",
       "      <th>Harry Potter and the Chamber of Secrets: The Illustrated Edition (Harry Potter, Book 2)</th>\n",
       "      <th>J.K. Rowling</th>\n",
       "      <td>4.9</td>\n",
       "      <td>2016.0</td>\n",
       "    </tr>\n",
       "    <tr>\n",
       "      <th>Dog Man: Brawl of the Wild: From the Creator of Captain Underpants (Dog Man #6)</th>\n",
       "      <th>Dav Pilkey</th>\n",
       "      <td>4.9</td>\n",
       "      <td>2018.5</td>\n",
       "    </tr>\n",
       "    <tr>\n",
       "      <th>Brown Bear, Brown Bear, What Do You See?</th>\n",
       "      <th>Bill Martin Jr.</th>\n",
       "      <td>4.9</td>\n",
       "      <td>2018.0</td>\n",
       "    </tr>\n",
       "    <tr>\n",
       "      <th>Rush Revere and the Brave Pilgrims: Time-Travel Adventures with Exceptional Americans (1)</th>\n",
       "      <th>Rush Limbaugh</th>\n",
       "      <td>4.9</td>\n",
       "      <td>2013.0</td>\n",
       "    </tr>\n",
       "    <tr>\n",
       "      <th>Goodnight, Goodnight Construction Site (Hardcover Books for Toddlers, Preschool Books for Kids)</th>\n",
       "      <th>Sherri Duskey Rinker</th>\n",
       "      <td>4.9</td>\n",
       "      <td>2012.5</td>\n",
       "    </tr>\n",
       "  </tbody>\n",
       "</table>\n",
       "</div>"
      ],
      "text/plain": [
       "                                                                         User Rating  \\\n",
       "Name                                               Author                              \n",
       "Hamilton: The Revolution                           Lin-Manuel Miranda            4.9   \n",
       "Rush Revere and the First Patriots: Time-Travel... Rush Limbaugh                 4.9   \n",
       "Harry Potter and the Sorcerer's Stone: The Illu... J.K. Rowling                  4.9   \n",
       "Harry Potter and the Prisoner of Azkaban: The I... J.K. Rowling                  4.9   \n",
       "Harry Potter and the Goblet of Fire: The Illust... J. K. Rowling                 4.9   \n",
       "Harry Potter and the Chamber of Secrets: The Il... J.K. Rowling                  4.9   \n",
       "Dog Man: Brawl of the Wild: From the Creator of... Dav Pilkey                    4.9   \n",
       "Brown Bear, Brown Bear, What Do You See?           Bill Martin Jr.               4.9   \n",
       "Rush Revere and the Brave Pilgrims: Time-Travel... Rush Limbaugh                 4.9   \n",
       "Goodnight, Goodnight Construction Site (Hardcov... Sherri Duskey Rinker          4.9   \n",
       "\n",
       "                                                                           Year  \n",
       "Name                                               Author                        \n",
       "Hamilton: The Revolution                           Lin-Manuel Miranda    2016.0  \n",
       "Rush Revere and the First Patriots: Time-Travel... Rush Limbaugh         2014.0  \n",
       "Harry Potter and the Sorcerer's Stone: The Illu... J.K. Rowling          2016.0  \n",
       "Harry Potter and the Prisoner of Azkaban: The I... J.K. Rowling          2017.0  \n",
       "Harry Potter and the Goblet of Fire: The Illust... J. K. Rowling         2019.0  \n",
       "Harry Potter and the Chamber of Secrets: The Il... J.K. Rowling          2016.0  \n",
       "Dog Man: Brawl of the Wild: From the Creator of... Dav Pilkey            2018.5  \n",
       "Brown Bear, Brown Bear, What Do You See?           Bill Martin Jr.       2018.0  \n",
       "Rush Revere and the Brave Pilgrims: Time-Travel... Rush Limbaugh         2013.0  \n",
       "Goodnight, Goodnight Construction Site (Hardcov... Sherri Duskey Rinker  2012.5  "
      ]
     },
     "execution_count": 176,
     "metadata": {},
     "output_type": "execute_result"
    }
   ],
   "source": [
    "amazon_books[['Name','User Rating', 'Author', 'Year']].groupby(by=['Name', 'Author'])\\\n",
    ".mean().sort_values(by='User Rating',ascending=False)\\\n",
    ".head(10)"
   ]
  },
  {
   "cell_type": "markdown",
   "metadata": {},
   "source": [
    "#### The Best selling book of the decade is 'Hamilton: The Revolution' authored by Lin-Manuel Miranda with average user rating of 4.9 and ranked as bestseller in 2016."
   ]
  },
  {
   "cell_type": "markdown",
   "metadata": {},
   "source": [
    ".............................................................................................................................................................................................................................................................."
   ]
  },
  {
   "cell_type": "markdown",
   "metadata": {},
   "source": [
    "## 2. Visualizing the percentage of fiction to non-fiction"
   ]
  },
  {
   "cell_type": "code",
   "execution_count": 177,
   "metadata": {},
   "outputs": [
    {
     "name": "stdout",
     "output_type": "stream",
     "text": [
      "Counter({'Non Fiction': 310, 'Fiction': 240})\n",
      "             Name  Author  User Rating  Reviews  Price  Year\n",
      "Genre                                                       \n",
      "Fiction       240     240          240      240    240   240\n",
      "Non Fiction   310     310          310      310    310   310\n"
     ]
    },
    {
     "data": {
      "image/png": "[encoded data removed]",
      "text/plain": [
       "<Figure size 648x432 with 1 Axes>"
      ]
     },
     "metadata": {},
     "output_type": "display_data"
    }
   ],
   "source": [
    "from collections import Counter\n",
    "print (Counter(amazon_books['Genre']))\n",
    "title_genre =  amazon_books.groupby('Genre').agg('count')\n",
    "print(title_genre)\n",
    "genre_labels = title_genre.Name.sort_values().index\n",
    "genre_counts = title_genre.Name.sort_values()\n",
    "fig = plt.figure(figsize = (9,6))\n",
    "genre_types = plt.pie(genre_counts, labels = genre_labels, autopct = '%1.1f%%', shadow = False)\n",
    "plt.title('Percentage of Fiction to Non-fiction')\n",
    "plt.axis('equal')\n",
    "\n",
    "plt.show()"
   ]
  },
  {
   "cell_type": "markdown",
   "metadata": {},
   "source": [
    "#### The percentage of Fiction books is 43.6% while that of Non-fiction is 56.4%"
   ]
  },
  {
   "cell_type": "markdown",
   "metadata": {},
   "source": [
    ".............................................................................................................................................................................................................................................................."
   ]
  },
  {
   "cell_type": "markdown",
   "metadata": {},
   "source": [
    "## 3. Trends over the year\n",
    "##### i. Checking the trend of fiction and nonfiction on best sellers book list over the years"
   ]
  },
  {
   "cell_type": "markdown",
   "metadata": {},
   "source": [
    "First, I'll create an empty list to contain the number of fiction and non-fiction books over the years. Next, looping through the years in a for loop statement, the number of the fiction and non fiction books is then appended into the empty list. "
   ]
  },
  {
   "cell_type": "code",
   "execution_count": 178,
   "metadata": {},
   "outputs": [
    {
     "name": "stdout",
     "output_type": "stream",
     "text": [
      "    Year  Number of Fiction\n",
      "0   2009                 24\n",
      "1   2010                 20\n",
      "2   2011                 21\n",
      "3   2012                 21\n",
      "4   2013                 24\n",
      "5   2014                 29\n",
      "6   2015                 17\n",
      "7   2016                 19\n",
      "8   2017                 24\n",
      "9   2018                 21\n",
      "10  2019                 20\n"
     ]
    }
   ],
   "source": [
    "year = [2009,2010,2011,2012,2013,2014,2015,2016,2017,2018,2019]\n",
    "num_fiction = []\n",
    "for i in year:\n",
    "    fiction = amazon_books[(amazon_books[\"Year\"] == i) & (amazon_books[\"Genre\"] == \"Fiction\")]\n",
    "    num_fiction.append(len(fiction))\n",
    "df_fiction = pd.DataFrame({\"Year\": year,\"Number of Fiction\": num_fiction})\n",
    "print(df_fiction)"
   ]
  },
  {
   "cell_type": "code",
   "execution_count": 179,
   "metadata": {},
   "outputs": [
    {
     "name": "stdout",
     "output_type": "stream",
     "text": [
      "    Year  Number of Non-Fiction\n",
      "0   2009                     26\n",
      "1   2010                     30\n",
      "2   2011                     29\n",
      "3   2012                     29\n",
      "4   2013                     26\n",
      "5   2014                     21\n",
      "6   2015                     33\n",
      "7   2016                     31\n",
      "8   2017                     26\n",
      "9   2018                     29\n",
      "10  2019                     30\n"
     ]
    }
   ],
   "source": [
    "year = [2009,2010,2011,2012,2013,2014,2015,2016,2017,2018,2019]\n",
    "num_nonfiction = []\n",
    "for i in year:\n",
    "    non_fiction = amazon_books[(amazon_books[\"Year\"] == i) & (amazon_books[\"Genre\"] == \"Non Fiction\")]\n",
    "    num_nonfiction.append(len(non_fiction))\n",
    "df_nonfiction = pd.DataFrame({\"Year\": year,\"Number of Non-Fiction\": num_nonfiction})\n",
    "print(df_nonfiction)"
   ]
  },
  {
   "cell_type": "code",
   "execution_count": 180,
   "metadata": {},
   "outputs": [
    {
     "name": "stdout",
     "output_type": "stream",
     "text": [
      "    Year  Number of Non-Fiction  Number of Fiction\n",
      "0   2009                     26                 24\n",
      "1   2010                     30                 20\n",
      "2   2011                     29                 21\n",
      "3   2012                     29                 21\n",
      "4   2013                     26                 24\n",
      "5   2014                     21                 29\n",
      "6   2015                     33                 17\n",
      "7   2016                     31                 19\n",
      "8   2017                     26                 24\n",
      "9   2018                     29                 21\n",
      "10  2019                     30                 20\n"
     ]
    }
   ],
   "source": [
    "#Merging both dataframes\n",
    "df_nonfiction[\"Number of Fiction\"] = df_fiction[\"Number of Fiction\"]\n",
    "\n",
    "#Renaming the dataframe\n",
    "df_genre = df_nonfiction.copy()\n",
    "print(df_genre)"
   ]
  },
  {
   "cell_type": "code",
   "execution_count": 181,
   "metadata": {},
   "outputs": [
    {
     "data": {
      "image/png": "[encoded data removed]",
      "text/plain": [
       "<Figure size 1152x360 with 2 Axes>"
      ]
     },
     "metadata": {},
     "output_type": "display_data"
    }
   ],
   "source": [
    "#Visualizing the trend\n",
    "#I will use the 'ggplot' function to style the bar chart\n",
    "\n",
    "#for fiction\n",
    "plt.style.use(\"ggplot\")\n",
    "plt.figure(figsize=(16,5)) \n",
    "plt.subplot(1,2,1)\n",
    "plt.bar(x = df_genre[\"Year\"],height=df_genre[\"Number of Fiction\"])\n",
    "plt.plot(df_genre[\"Year\"],df_genre[\"Number of Fiction\"],\"-ok\")\n",
    "plt.title(\"Trend of Fiction on BestSeller Books List from 2009-2019\")\n",
    "plt.xlabel(\"Year\")\n",
    "plt.ylabel(\"No. of Fiction books in best sellers\")\n",
    "\n",
    "#for non-fiction\n",
    "plt.subplot(1,2,2)\n",
    "plt.bar(x = df_genre[\"Year\"],height=df_genre[\"Number of Non-Fiction\"])\n",
    "plt.plot(df_genre[\"Year\"],df_genre[\"Number of Non-Fiction\"],\"-oc\")\n",
    "plt.title(\"Trend of Non-Fiction on BestSeller Books List from 2009-2019\")\n",
    "plt.xlabel(\"Year\")\n",
    "plt.ylabel(\"No. of Non-Fiction books in best sellers\")\n",
    "plt.show()"
   ]
  },
  {
   "cell_type": "markdown",
   "metadata": {},
   "source": [
    "**The most and least number of fiction books in the best sellers list was in 2014 and 2015 respectively. The reverse was the case for the non-fiction books.**"
   ]
  },
  {
   "cell_type": "markdown",
   "metadata": {},
   "source": [
    ".............................................................................................................................................................................................................................................................."
   ]
  },
  {
   "cell_type": "markdown",
   "metadata": {},
   "source": [
    "##### ii. Trend of average reviews over the years"
   ]
  },
  {
   "cell_type": "code",
   "execution_count": 182,
   "metadata": {},
   "outputs": [
    {
     "data": {
      "image/png": "[encoded data removed]",
      "text/plain": [
       "<Figure size 1080x720 with 1 Axes>"
      ]
     },
     "metadata": {},
     "output_type": "display_data"
    }
   ],
   "source": [
    "plt.figure(figsize = (15,10))\n",
    "sns.barplot(y = amazon_books['Reviews'], x= amazon_books['Year'],data = amazon_books)\n",
    "plt.show()"
   ]
  },
  {
   "cell_type": "markdown",
   "metadata": {},
   "source": [
    "## 4. Top 10 Authors by Reviews"
   ]
  },
  {
   "cell_type": "code",
   "execution_count": 183,
   "metadata": {},
   "outputs": [
    {
     "name": "stdout",
     "output_type": "stream",
     "text": [
      "AxesSubplot(0.125,0.125;0.775x0.755)\n"
     ]
    },
    {
     "data": {
      "image/png": "[encoded data removed]",
      "text/plain": [
       "<Figure size 1080x720 with 1 Axes>"
      ]
     },
     "metadata": {},
     "output_type": "display_data"
    }
   ],
   "source": [
    "top10_authors = amazon_books[['Author', 'Reviews']].groupby(by='Author').mean().sort_values(by='Reviews',ascending=False)\\\n",
    ".head(10)\\\n",
    ".plot(kind = 'bar', title = 'Top 10 Authors', color= 'blue', figsize= (15,10))\n",
    "print(top10_authors)"
   ]
  },
  {
   "cell_type": "markdown",
   "metadata": {},
   "source": [
    "Delia Owens had the most reviews in the decade."
   ]
  }
 ],
 "metadata": {
  "kernelspec": {
   "display_name": "Python 3",
   "language": "python",
   "name": "python3"
  },
  "language_info": {
   "codemirror_mode": {
    "name": "ipython",
    "version": 3
   },
   "file_extension": ".py",
   "mimetype": "text/x-python",
   "name": "python",
   "nbconvert_exporter": "python",
   "pygments_lexer": "ipython3",
   "version": "3.7.6"
  }
 },
 "nbformat": 4,
 "nbformat_minor": 4
}
